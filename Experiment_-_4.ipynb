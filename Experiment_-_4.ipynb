{
 "cells": [
  {
   "cell_type": "code",
   "execution_count": 4,
   "metadata": {},
   "outputs": [
    {
     "name": "stdout",
     "output_type": "stream",
     "text": [
      "Jaccard Coefficient = 0.3333333333333333\n"
     ]
    }
   ],
   "source": [
    "def jaccard_coef(x ,y ):\n",
    "  x = list(x.split())\n",
    "  y= list(y.split())\n",
    "  intersection = len(list(set(x).intersection(y)))\n",
    "  union = (len(x) + len(y)) - intersection\n",
    "  return float(intersection) / union\n",
    "ref = 'meet me at the airport tomorrow'\n",
    "test = 'meat me at the aeroport 2morrw'\n",
    "print(\"Jaccard Coefficient =\" , jaccard_coef(ref , test))"
   ]
  },
  {
   "cell_type": "code",
   "execution_count": 5,
   "metadata": {},
   "outputs": [
    {
     "name": "stdout",
     "output_type": "stream",
     "text": [
      "Length of ref 6\n",
      "Edit Distance of word 0 = 1\n",
      "Edit Distance of word 1 = 0\n",
      "Edit Distance of word 2 = 0\n",
      "Edit Distance of word 3 = 0\n",
      "Edit Distance of word 4 = 2\n",
      "Edit Distance of word 5 = 3\n",
      "total correction = 6\n",
      "Average Correction Words=  1.0\n"
     ]
    }
   ],
   "source": [
    "def edit_distance(s1, s2):\n",
    "    m=len(s1)+1\n",
    "    n=len(s2)+1\n",
    "\n",
    "    tbl = {}\n",
    "    for i in range(m): tbl[i,0]=i\n",
    "    for j in range(n): tbl[0,j]=j\n",
    "    for i in range(1, m):\n",
    "        for j in range(1, n):\n",
    "            cost = 0 if s1[i-1] == s2[j-1] else 1\n",
    "            tbl[i,j] = min(tbl[i, j-1]+1, tbl[i-1, j]+1, tbl[i-1, j-1]+cost)\n",
    "\n",
    "    return (tbl[i,j])\n",
    "\n",
    "ref = 'meet me at the airport tomorrow'\n",
    "test = 'meat me at the aeroport 2morrw'\n",
    "ref = ref.split()\n",
    "test = test.split()\n",
    "print(\"Length of ref\" , len(ref))\n",
    "summ=0\n",
    "for i in range(0 , 6):\n",
    "  dist = edit_distance(ref[i] , test[i])\n",
    "  print(\"Edit Distance of word\" , i ,'=' , dist)\n",
    "  summ = summ + dist\n",
    "print(\"total correction =\" , summ)\n",
    "print(\"Average Correction Words= \" , summ/len(ref))"
   ]
  },
  {
   "cell_type": "code",
   "execution_count": 6,
   "metadata": {},
   "outputs": [
    {
     "name": "stderr",
     "output_type": "stream",
     "text": [
      "[nltk_data] Downloading package stopwords to\n",
      "[nltk_data]     C:\\Users\\mande\\AppData\\Roaming\\nltk_data...\n",
      "[nltk_data]   Package stopwords is already up-to-date!\n"
     ]
    },
    {
     "name": "stdout",
     "output_type": "stream",
     "text": [
      "Fit Vectorizer to train set [[1 0 1 0]\n",
      " [0 1 0 1]]\n",
      "Transform Vectorizer to test set [[0 1 1 1]]\n",
      "[[0.70710678 0.         0.70710678 0.        ]\n",
      " [0.         0.70710678 0.         0.70710678]]\n",
      "[[0.         0.57735027 0.57735027 0.57735027]]\n"
     ]
    }
   ],
   "source": [
    "# Cosine Similarity\n",
    "\n",
    "from sklearn.feature_extraction.text import CountVectorizer\n",
    "from sklearn.feature_extraction.text import TfidfTransformer\n",
    "from nltk.corpus import stopwords\n",
    "import numpy as np\n",
    "import numpy.linalg as LA\n",
    "import nltk\n",
    "nltk.download('stopwords')\n",
    "\n",
    "train_set = [\"The sky is blue.\", \"The sun is bright.\"]  # Documents\n",
    "test_set = [\"The sun in the sky is bright.\"]  # Query\n",
    "stopWords = stopwords.words('english')\n",
    "\n",
    "vectorizer = CountVectorizer(stop_words = stopWords)\n",
    "#print vectorizer\n",
    "transformer = TfidfTransformer()\n",
    "#print transformer\n",
    "\n",
    "trainVectorizerArray = vectorizer.fit_transform(train_set).toarray()\n",
    "testVectorizerArray = vectorizer.transform(test_set).toarray()\n",
    "print ('Fit Vectorizer to train set', trainVectorizerArray)\n",
    "print ('Transform Vectorizer to test set', testVectorizerArray)\n",
    "\n",
    "transformer.fit(trainVectorizerArray)\n",
    "print (transformer.transform(trainVectorizerArray).toarray())\n",
    "\n",
    "transformer.fit(testVectorizerArray)\n",
    "tfidf = transformer.transform(testVectorizerArray)\n",
    "print(tfidf.todense())"
   ]
  },
  {
   "cell_type": "code",
   "execution_count": null,
   "metadata": {},
   "outputs": [],
   "source": []
  }
 ],
 "metadata": {
  "kernelspec": {
   "display_name": "Python 3",
   "language": "python",
   "name": "python3"
  },
  "language_info": {
   "codemirror_mode": {
    "name": "ipython",
    "version": 3
   },
   "file_extension": ".py",
   "mimetype": "text/x-python",
   "name": "python",
   "nbconvert_exporter": "python",
   "pygments_lexer": "ipython3",
   "version": "3.7.6"
  }
 },
 "nbformat": 4,
 "nbformat_minor": 4
}

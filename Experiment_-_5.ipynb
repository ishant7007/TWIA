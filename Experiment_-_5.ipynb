{
 "cells": [
  {
   "cell_type": "code",
   "execution_count": 3,
   "metadata": {},
   "outputs": [],
   "source": [
    "import nltk\n",
    "import random\n",
    "from nltk.wsd import lesk\n",
    "from nltk.corpus import wordnet as wn"
   ]
  },
  {
   "cell_type": "code",
   "execution_count": 9,
   "metadata": {},
   "outputs": [
    {
     "name": "stdout",
     "output_type": "stream",
     "text": [
      "Synset('vitamin_c.n.01')\n",
      "Synset('degree_centigrade.n.01') a degree on the centigrade scale of temperature\n",
      "Synset('speed_of_light.n.01') the speed at which light travels in a vacuum; the constancy and universality of the speed of light is recognized by defining it to be exactly 299,792,458 meters per second\n",
      "Synset('vitamin_c.n.01') a vitamin found in fresh fruits (especially citrus fruits) and vegetables; prevents scurvy\n",
      "Synset('deoxycytidine_monophosphate.n.01') one of the four nucleotides used in building DNA; all four nucleotides have a common phosphate group and a sugar (ribose)\n",
      "Synset('cytosine.n.01') a base found in DNA and RNA and derived from pyrimidine; pairs with guanine\n",
      "Synset('carbon.n.01') an abundant nonmetallic tetravalent element occurring in three allotropic forms: amorphous carbon and graphite and diamond; occurs in all organic compounds\n",
      "Synset('hundred.n.01') ten 10s\n",
      "Synset('coulomb.n.01') a unit of electrical charge equal to the amount of charge transferred by a current of 1 ampere in 1 second\n",
      "Synset('c.n.09') a general-purpose programing language closely associated with the UNIX operating system\n",
      "Synset('c.n.10') (music) the keynote of the scale of C major\n",
      "Synset('c.n.11') the 3rd letter of the Roman alphabet\n",
      "Synset('coke.n.03') street names for cocaine\n",
      "Synset('hundred.s.01') being ten more than ninety\n"
     ]
    },
    {
     "data": {
      "text/plain": [
       "Synset('education.n.04')"
      ]
     },
     "execution_count": 9,
     "metadata": {},
     "output_type": "execute_result"
    }
   ],
   "source": [
    "sentence = list(\"These are just a few ways that one might use the random sentence generator for their benefit. If you're not sure if it will help in the way you want, the best course of action is to try it and see. Have several random sentences generated and you'll soon be able to see if they can help with your project.\")\n",
    "\n",
    "word = random.choice(sentence)\n",
    "print(lesk(sentence,word))\n",
    "\n",
    "#definiton\n",
    "for ss in wn.synsets(word):\n",
    "  print(ss,ss.definition())\n",
    "\n",
    "#Disambiguitioin of the POS Tagged 'marry'\n",
    "[(s, s.pos()) for s in wn.synsets('education')]\n",
    "sent_2 = sent = 'people should be able to marry a person of their choice'.split()\n",
    "lesk(sent_2, 'education')"
   ]
  },
  {
   "cell_type": "code",
   "execution_count": null,
   "metadata": {},
   "outputs": [],
   "source": []
  }
 ],
 "metadata": {
  "kernelspec": {
   "display_name": "Python 3",
   "language": "python",
   "name": "python3"
  },
  "language_info": {
   "codemirror_mode": {
    "name": "ipython",
    "version": 3
   },
   "file_extension": ".py",
   "mimetype": "text/x-python",
   "name": "python",
   "nbconvert_exporter": "python",
   "pygments_lexer": "ipython3",
   "version": "3.7.6"
  }
 },
 "nbformat": 4,
 "nbformat_minor": 4
}
